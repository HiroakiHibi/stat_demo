{
 "cells": [
  {
   "cell_type": "markdown",
   "id": "da3c445c",
   "metadata": {},
   "source": [
    "# **イントロダクション**\n"
   ]
  },
  {
   "cell_type": "markdown",
   "id": "99725e9b",
   "metadata": {},
   "source": [
    "## **jupyter notebook とは?**\n",
    "\n",
    "H.H : 「jupyter notebook について教えてください」\n",
    "\n",
    "ChatGPT : 「\n",
    "\n",
    "Jupyter Notebookは、コード、テキスト、グラフ、画像などを含む対話的なドキュメントを作成するためのオープンソースのWebアプリケーションです。   \n",
    "Jupyterは、Python、R、Juliaなどのプログラミング言語をサポートしています。  \n",
    "Jupyter Notebookの特徴は、<span style=\"color: red; \">コードとその実行結果をインタラクティブに組み合わせてドキュメントを作成できる</span>ことです。また、MarkdownやLaTeXといった記法による文章の執筆が可能です。  \n",
    "これにより、データの分析や可視化、実験や教育、レポートや論文の執筆などに利用されます。  \n",
    "Jupyter Notebookは、ブラウザを介して使用され、<span style=\"color: red; \">多くのプログラマーやデータサイエンティストによって広く利用されています。</span>  \n",
    "インストールや設定が簡単で、無料で利用できます。また、Jupyter Notebookを使用して作成されたファイルは、GitHubなどのバージョン管理ツールで簡単に共有できます。  \n",
    "\n",
    "」\n",
    "\n"
   ]
  },
  {
   "cell_type": "markdown",
   "id": "a83da05c",
   "metadata": {},
   "source": [
    "# **基本的な操作方法**\n",
    "(左のメニューに目次があるので、見てみると分かりやすいです)"
   ]
  },
  {
   "cell_type": "markdown",
   "id": "446f34ae",
   "metadata": {
    "tags": []
   },
   "source": [
    "### **コマンドモードとエディットモード**\n",
    "\n",
    "Jupyter Notebook にはセル全体を操作する「コマンドモード」と「エディットモード」が存在する。\n",
    "\n",
    "\n",
    "コマンドモード : セルの移動や削除、挿入などが行える  \n",
    "エディットモード : セル内のコードやテキストを編集することができる。\n",
    "\n",
    "\n",
    "\n",
    "**切り替え方法**  \n",
    "コマンドモード → エディットモード : **Enter**  \n",
    "エディットモード → コマンドモード : **Esc**\n"
   ]
  },
  {
   "cell_type": "markdown",
   "id": "84cbfca5",
   "metadata": {
    "tags": []
   },
   "source": [
    "### **セルを実行する**\n",
    "jupyter Notebookは、セルと呼ばれるコードやテキストを入力する領域を持っています。セルにコードやテキストを入力し、<span style=\"color: red; \">**Shift + Enterキー** </span> または <span style=\"color: red; \">**Ctrl + Enterキー** </span>  を押すことで、セルを実行できます。  \n",
    "コマンドモード、エディットモードどちらでも良い"
   ]
  },
  {
   "cell_type": "code",
   "execution_count": 1,
   "id": "e1ecd8c6",
   "metadata": {},
   "outputs": [
    {
     "data": {
      "text/plain": [
       "2"
      ]
     },
     "execution_count": 1,
     "metadata": {},
     "output_type": "execute_result"
    }
   ],
   "source": [
    "# Shift + Enter を押す\n",
    "1+1"
   ]
  },
  {
   "cell_type": "code",
   "execution_count": 2,
   "id": "2cad6b3b",
   "metadata": {},
   "outputs": [
    {
     "data": {
      "text/plain": [
       "4"
      ]
     },
     "execution_count": 2,
     "metadata": {},
     "output_type": "execute_result"
    }
   ],
   "source": [
    "# Ctrl + Enter を押す\n",
    "2+2"
   ]
  },
  {
   "cell_type": "markdown",
   "id": "97ae80b4-4a15-47d5-a9f0-26dd4c531aa1",
   "metadata": {},
   "source": [
    "### **セルの種類を切り替える**\n",
    "セルには、コードを入力する「Code」セルとテキストを入力する「Markdown」セルがあります。  \n",
    "セルの種類を変更するには、エディットモード中に <span style=\"color: red; \">**y で Code セル** </span>, <span style=\"color: red; \">**m で Markdown セル** </span> に変更できる。\n",
    "\n",
    "以下のセルを適切なセルに変更しましょう。"
   ]
  },
  {
   "cell_type": "markdown",
   "id": "4e2725d7-a599-4f0e-8255-b0ab4323ff39",
   "metadata": {},
   "source": [
    "Q1, \n",
    "これはコードではなく説明だよ"
   ]
  },
  {
   "cell_type": "code",
   "execution_count": 3,
   "id": "304b95ee-4ec2-445a-a717-39c030125101",
   "metadata": {},
   "outputs": [
    {
     "name": "stdout",
     "output_type": "stream",
     "text": [
      "Hello world\n"
     ]
    }
   ],
   "source": [
    "#Q2\n",
    "\n",
    "#これは Hello world と表示するコードです。\n",
    "\n",
    "print(\"Hello world\")"
   ]
  },
  {
   "cell_type": "markdown",
   "id": "41e8cf4e",
   "metadata": {},
   "source": [
    "### **カーネルを再起動する**\n",
    "\n",
    "カーネルを再起動するには、「Kernel」メニューから「Restart」を選択します。"
   ]
  },
  {
   "cell_type": "code",
   "execution_count": 4,
   "id": "444bc5a4",
   "metadata": {},
   "outputs": [
    {
     "ename": "NameError",
     "evalue": "name 'a' is not defined",
     "output_type": "error",
     "traceback": [
      "\u001b[1;31m---------------------------------------------------------------------------\u001b[0m",
      "\u001b[1;31mNameError\u001b[0m                                 Traceback (most recent call last)",
      "Cell \u001b[1;32mIn[4], line 2\u001b[0m\n\u001b[0;32m      1\u001b[0m \u001b[38;5;66;03m#最初はエラーが出る\u001b[39;00m\n\u001b[1;32m----> 2\u001b[0m \u001b[43ma\u001b[49m\n",
      "\u001b[1;31mNameError\u001b[0m: name 'a' is not defined"
     ]
    }
   ],
   "source": [
    "#最初はエラーが出る\n",
    "a"
   ]
  },
  {
   "cell_type": "code",
   "execution_count": null,
   "id": "4a13622a",
   "metadata": {},
   "outputs": [],
   "source": [
    "# 変数 a を定義する\n",
    "a = 1"
   ]
  },
  {
   "cell_type": "code",
   "execution_count": 5,
   "id": "a1d708a6",
   "metadata": {},
   "outputs": [
    {
     "ename": "NameError",
     "evalue": "name 'a' is not defined",
     "output_type": "error",
     "traceback": [
      "\u001b[1;31m---------------------------------------------------------------------------\u001b[0m",
      "\u001b[1;31mNameError\u001b[0m                                 Traceback (most recent call last)",
      "Cell \u001b[1;32mIn[5], line 2\u001b[0m\n\u001b[0;32m      1\u001b[0m \u001b[38;5;66;03m# 上で定義されているのでエラーにならない\u001b[39;00m\n\u001b[1;32m----> 2\u001b[0m \u001b[43ma\u001b[49m\n",
      "\u001b[1;31mNameError\u001b[0m: name 'a' is not defined"
     ]
    }
   ],
   "source": [
    "# 上で定義されているのでエラーにならない\n",
    "a"
   ]
  },
  {
   "cell_type": "markdown",
   "id": "8bde4d72",
   "metadata": {},
   "source": [
    "- もう一度最初にエラーが出たセルを実行するとエラーが出なくなっている\n",
    "- カーネルをリスタートする(上のボタンでRestartを押す)と変数等すべてが初期状態に戻る\n",
    "- もう一度最初にエラーが出たセルを実行すると再度エラーとなる"
   ]
  },
  {
   "cell_type": "markdown",
   "id": "a5bda21b-48f2-4994-bf8e-5ec774b8a219",
   "metadata": {},
   "source": [
    "### **Shut Down**"
   ]
  },
  {
   "cell_type": "markdown",
   "id": "3eb50611-518c-4be0-a669-9afa9ec45b0c",
   "metadata": {},
   "source": [
    "開いている notebook ごとにカーネルが動いている。ファイルを開きすぎると重くなることもあるので、動作が重いと感じたら使用していないnotebookのカーネルを shut down する。  \n",
    "- 「左のマルの中に四角のタブを選ぶ」→「KERNELS の欄から shut down したい notebook にカーソルを合わせて×を押す」\n",
    "- OPEN TABS は表示が消えるだけで KERNEL は shut down されない"
   ]
  },
  {
   "cell_type": "code",
   "execution_count": null,
   "id": "e075a971-0a60-4348-b1a0-258a62d9c3b3",
   "metadata": {},
   "outputs": [],
   "source": []
  },
  {
   "cell_type": "markdown",
   "id": "e95f50f6",
   "metadata": {},
   "source": [
    "# **ハンズオンの使い方**"
   ]
  },
  {
   "cell_type": "markdown",
   "id": "111ef2b7",
   "metadata": {},
   "source": [
    " \n",
    "色々おまじないが書いてあるが気にせず実行する"
   ]
  },
  {
   "cell_type": "code",
   "execution_count": 6,
   "id": "e4162ca8",
   "metadata": {},
   "outputs": [],
   "source": [
    "###################\n",
    "##  おまじない\n",
    "###################\n",
    "\n",
    "import numpy as np\n",
    "import math\n",
    "import matplotlib.pyplot as plt\n",
    "from matplotlib import rcParams\n",
    "from scipy import stats\n",
    "from scipy.stats import binom, poisson, geom\n",
    "from ipywidgets import interact\n",
    "\n",
    "\n",
    "# フォントおよびフォントサイズ\n",
    "rcParams['font.family'] = 'Meiryo'\n",
    "rcParams['font.size'] = 16.0\n",
    "\n",
    "\n",
    "# カラーサイクルの設定\n",
    "plt.rcParams['axes.prop_cycle'] = (\n",
    "    plt.cycler('color', \n",
    "            # 上から優先順位が高い順になっています\n",
    "               [\n",
    "                '#1167A7', # 青色：メインカラー1\n",
    "                '#F6A90E', # 黄色：メインカラー2\n",
    "                '#ABB7B9', # 灰色：サブカラー1\n",
    "                '#4DA9ED', # 薄い青色\n",
    "                '#FBDD9F', # 薄い黄色\n",
    "                '#CDD4D5', # 薄い灰色\n",
    "                '#0D4D7D', # 濃い青色\n",
    "                '#BC8007', # 濃い黄色\n",
    "                '#7A8D91', # 濃い灰色\n",
    "               ])\n",
    ")\n",
    "# 上記12色で対応できない場合は以下のマーカーで差別化してください \n",
    "# 優先度：'o'（〇）＞','（■）＞'v'（▲）＞'^'（▼）＞\n",
    "\n",
    "# #C4240E, # 赤色：アクセントカラー1\n",
    "# #1C1C1C', # 黒色：アクセントカラー2\n",
    "\n",
    "\n",
    "\n",
    "%matplotlib inline"
   ]
  },
  {
   "cell_type": "markdown",
   "id": "118d8c76",
   "metadata": {},
   "source": [
    "- 【確認事項】を読む\n",
    "- 変更する変数にある変数の値を変えて何回か実行してみる(Ctrl+Enter) or スライドバー"
   ]
  },
  {
   "cell_type": "markdown",
   "id": "26f153e4",
   "metadata": {},
   "source": [
    "## (例1)正規分布"
   ]
  },
  {
   "cell_type": "markdown",
   "id": "902e0bc2",
   "metadata": {},
   "source": [
    "$\n",
    "\\begin{equation}\n",
    "  P(x)=\\frac{1}{\\sqrt{2\\pi\\sigma^2}}\\exp{(-\\frac{(x-\\mu)^2}{2\\sigma^2})}\n",
    "\\end{equation}\n",
    "$\n",
    "\n",
    "$\\mu$ : 平均値  \n",
    "$\\sigma$ : 標準偏差\n",
    "\n",
    "\n",
    "【確認事項】\n",
    "- パラメーターによってどのように分布の形状が変わるかを確認する"
   ]
  },
  {
   "cell_type": "code",
   "execution_count": 7,
   "id": "90e0fe17",
   "metadata": {},
   "outputs": [],
   "source": [
    "def gauss_func(mu, sigma):\n",
    "    \"\"\"ガウス分布を作成し、描画する関数\n",
    "\n",
    "    Args:\n",
    "        mu (float): 平均値\n",
    "        sigma (float): 標準偏差\n",
    "    \"\"\"\n",
    "    x = np.arange(-100,100,1)\n",
    "    a = 1/(math.sqrt(2*math.pi*sigma*sigma)) # 規格化因子\n",
    "    f = a * np.exp(-(x - mu)**2 / (2*sigma**2)) # ガウス分布の式\n",
    "\n",
    "    fig, ax = plt.subplots()\n",
    "    ax.set_ylim(0,0.1)\n",
    "    ax.set_xlim(min(x),max(x))\n",
    "    ax.plot(x,f)"
   ]
  },
  {
   "cell_type": "code",
   "execution_count": 8,
   "id": "71cd66bc",
   "metadata": {
    "tags": []
   },
   "outputs": [
    {
     "data": {
      "application/vnd.jupyter.widget-view+json": {
       "model_id": "f0999a524aab4893a83b5074d596d4f6",
       "version_major": 2,
       "version_minor": 0
      },
      "text/plain": [
       "interactive(children=(IntSlider(value=0, description='mu', max=50, min=-50), FloatSlider(value=27.0, descripti…"
      ]
     },
     "metadata": {},
     "output_type": "display_data"
    }
   ],
   "source": [
    "interact(gauss_func, mu=(-50,50,1), sigma=(5,50,0.1) );"
   ]
  },
  {
   "cell_type": "markdown",
   "id": "cb0a1b7a-4f57-4a78-9aad-f19f30d20611",
   "metadata": {},
   "source": [
    "### **うまく表示されない場合**\n",
    "\n",
    "正しく表示されない場合は以下の変数を自分の手で変える"
   ]
  },
  {
   "cell_type": "code",
   "execution_count": 9,
   "id": "41deb94c-831d-43eb-bf31-245711269ba9",
   "metadata": {},
   "outputs": [
    {
     "data": {
      "image/png": "[encoded data removed]",
      "text/plain": [
       "<Figure size 640x480 with 1 Axes>"
      ]
     },
     "metadata": {},
     "output_type": "display_data"
    }
   ],
   "source": [
    "##-- 変更する変数 --##\n",
    "mu = 30 #平均値\n",
    "sigma = 10\n",
    "##------------------##\n",
    "\n",
    "gauss_func(mu, sigma)"
   ]
  },
  {
   "cell_type": "code",
   "execution_count": null,
   "id": "0c807b48",
   "metadata": {},
   "outputs": [],
   "source": []
  }
 ],
 "metadata": {
  "kernelspec": {
   "display_name": "Python 3 (ipykernel)",
   "language": "python",
   "name": "python3"
  },
  "language_info": {
   "codemirror_mode": {
    "name": "ipython",
    "version": 3
   },
   "file_extension": ".py",
   "mimetype": "text/x-python",
   "name": "python",
   "nbconvert_exporter": "python",
   "pygments_lexer": "ipython3",
   "version": "3.8.13"
  },
  "toc": {
   "base_numbering": 1,
   "nav_menu": {},
   "number_sections": true,
   "sideBar": true,
   "skip_h1_title": false,
   "title_cell": "Table of Contents",
   "title_sidebar": "Contents",
   "toc_cell": false,
   "toc_position": {},
   "toc_section_display": true,
   "toc_window_display": false
  },
  "vscode": {
   "interpreter": {
    "hash": "5e08fc709c577465c9f78fedd1a2b6fd5221b9a2a35126ec47bd55ed774e22c7"
   }
  }
 },
 "nbformat": 4,
 "nbformat_minor": 5
}
