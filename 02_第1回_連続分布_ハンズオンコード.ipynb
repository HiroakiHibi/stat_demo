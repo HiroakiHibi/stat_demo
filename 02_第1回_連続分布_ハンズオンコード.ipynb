{
 "cells": [
  {
   "cell_type": "code",
   "execution_count": null,
   "metadata": {},
   "outputs": [],
   "source": [
    "!pip install japanize-matplotlib\n",
    "\n",
    "import numpy as np\n",
    "import math\n",
    "import matplotlib.pyplot as plt\n",
    "from matplotlib import rcParams\n",
    "from scipy.stats import binom, poisson, geom\n",
    "from ipywidgets import interact\n",
    "import functools\n",
    "import japanize_matplotlib\n",
    "\n",
    "# フォントおよびフォントサイズ\n",
    "#rcParams['font.family'] = 'Meiryo'\n",
    "rcParams['font.size'] = 16.0\n",
    "\n",
    "\n",
    "# カラーサイクルの設定\n",
    "plt.rcParams['axes.prop_cycle'] = (\n",
    "    plt.cycler('color', \n",
    "            # 上から優先順位が高い順になっています\n",
    "               [\n",
    "                '#1167A7', # 青色：メインカラー1\n",
    "                '#F6A90E', # 黄色：メインカラー2\n",
    "                '#ABB7B9', # 灰色：サブカラー1\n",
    "                '#4DA9ED', # 薄い青色\n",
    "                '#FBDD9F', # 薄い黄色\n",
    "                '#CDD4D5', # 薄い灰色\n",
    "                '#0D4D7D', # 濃い青色\n",
    "                '#BC8007', # 濃い黄色\n",
    "                '#7A8D91', # 濃い灰色\n",
    "               ])\n",
    ")\n",
    "# 上記12色で対応できない場合は以下のマーカーで差別化してください \n",
    "# 優先度：'o'（〇）＞','（■）＞'v'（▲）＞'^'（▼）＞\n",
    "\n",
    "# #C4240E, # 赤色：アクセントカラー1\n",
    "# #1C1C1C', # 黒色：アクセントカラー2\n",
    "\n",
    "%matplotlib inline"
   ]
  },
  {
   "cell_type": "markdown",
   "metadata": {},
   "source": [
    "# **連続分布の確認**"
   ]
  },
  {
   "cell_type": "markdown",
   "metadata": {},
   "source": [
    "<br>\n",
    "\n",
    "## **指数分布**\n",
    "\n",
    "$\n",
    "\\begin{equation}\n",
    "P(x)= \\lambda \\exp({-\\lambda x})\n",
    "\\end{equation}\n",
    "$\n",
    "\n",
    "\n",
    "$\\lambda$ : 減衰の程度を表すパラメーター\n",
    "\n",
    "\n",
    "\n",
    "\n",
    "【確認事項】\n",
    "- パラメーターによってどのように分布の形状が変わるのかを確認する。\n"
   ]
  },
  {
   "cell_type": "code",
   "execution_count": null,
   "metadata": {},
   "outputs": [],
   "source": [
    "def exp(lambda_ = 2):\n",
    "    \"\"\"指数分布を作成し、描画する関数\n",
    "\n",
    "    Args:\n",
    "        lambda_ (int, optional): 指数分布のパラメーター. Defaults to 2.\n",
    "    \"\"\"\n",
    "    x = np.arange(0,10,0.1)\n",
    "    f = lambda_ * np.exp(-x*lambda_)\n",
    "    fig, ax = plt.subplots()\n",
    "    ax.set_ylim(0,2)\n",
    "    ax.set_xlim(0,max(x))\n",
    "    ax.plot(x,f)\n",
    "    plt.show()"
   ]
  },
  {
   "cell_type": "code",
   "execution_count": null,
   "metadata": {},
   "outputs": [
    {
     "data": {
      "application/vnd.jupyter.widget-view+json": {
       "model_id": "ef6b74e775204e8481ddaffdd0bdad69",
       "version_major": 2,
       "version_minor": 0
      },
      "text/plain": [
       "interactive(children=(FloatSlider(value=2.0, description='lambda_', max=3.0, step=0.01), Output()), _dom_class…"
      ]
     },
     "metadata": {},
     "output_type": "display_data"
    }
   ],
   "source": [
    "interact(exp, lambda_=(0,3,0.01)) # ここを変更する (start, end, step)"
   ]
  },
  {
   "cell_type": "code",
   "execution_count": null,
   "metadata": {},
   "outputs": [],
   "source": [
    "##-- 変更する変数 --##\n",
    "lambda_ = 1\n",
    "##------------------##\n",
    "exp(lambda_)"
   ]
  },
  {
   "cell_type": "markdown",
   "metadata": {},
   "source": [
    "## **正規分布 (ガウス分布)**"
   ]
  },
  {
   "cell_type": "markdown",
   "metadata": {},
   "source": [
    "\n",
    "\n",
    "$\n",
    "\\begin{equation}\n",
    "  P(x)=\\frac{1}{\\sqrt{2\\pi\\sigma^2}}\\exp{(-\\frac{(x-\\mu)^2}{2\\sigma^2})}\n",
    "\\end{equation}\n",
    "$\n",
    "\n",
    "$\\mu$ : 平均値  \n",
    "$\\sigma$ : 標準偏差\n",
    "\n",
    "\n",
    "【確認事項】\n",
    "- パラメーターによってどのように分布の形状が変わるかを確認する"
   ]
  },
  {
   "cell_type": "code",
   "execution_count": null,
   "metadata": {},
   "outputs": [],
   "source": [
    "def gauss_func(mu, sigma):\n",
    "    \"\"\"ガウス分布を作成し、描画する関数\n",
    "\n",
    "    Args:\n",
    "        mu (float): 平均値\n",
    "        sigma (float): 標準偏差\n",
    "    \"\"\"\n",
    "    x = np.arange(-100,100,1)\n",
    "    a = 1/(math.sqrt(2*math.pi*sigma*sigma)) # 規格化因子\n",
    "    f = a * np.exp(-(x - mu)**2 / (2*sigma**2)) # ガウス分布の式\n",
    "\n",
    "    fig, ax = plt.subplots()\n",
    "    ax.set_ylim(0,0.1)\n",
    "    ax.set_xlim(min(x),max(x))\n",
    "    ax.plot(x,f)\n",
    "    plt.show()"
   ]
  },
  {
   "cell_type": "code",
   "execution_count": null,
   "metadata": {
    "scrolled": true
   },
   "outputs": [
    {
     "data": {
      "application/vnd.jupyter.widget-view+json": {
       "model_id": "30e626ed4eca4bff80e6ee00d108bb52",
       "version_major": 2,
       "version_minor": 0
      },
      "text/plain": [
       "interactive(children=(IntSlider(value=0, description='mu', max=50, min=-50), FloatSlider(value=27.0, descripti…"
      ]
     },
     "metadata": {},
     "output_type": "display_data"
    },
    {
     "data": {
      "text/plain": [
       "<function __main__.gauss_func(mu, sigma)>"
      ]
     },
     "execution_count": 5,
     "metadata": {},
     "output_type": "execute_result"
    }
   ],
   "source": [
    "interact(gauss_func, mu=(-50,50,1), sigma=(5,50,0.1) ) # ここを変更する (start, end, step)"
   ]
  },
  {
   "cell_type": "code",
   "execution_count": null,
   "metadata": {},
   "outputs": [],
   "source": [
    "##-- 変更する変数 --##\n",
    "mu = 30 #平均値\n",
    "sigma = 10\n",
    "##------------------##\n",
    "\n",
    "gauss_func(mu, sigma)"
   ]
  },
  {
   "cell_type": "markdown",
   "metadata": {},
   "source": [
    "# 中心極限定理デモ\n",
    "\n",
    "【実験内容】  \n",
    "- 一様分布からランダムに num_of_samples 個だけサンプリングして平均値を計算\n",
    "- 上記の処理を1万回実行した結果をヒストグラムで描画する\n",
    "\n",
    "<br>\n",
    "\n",
    "【確認事項】  \n",
    "num_of_samples が多いほど平均値の分布が正規分布に近づくことを確認する\n"
   ]
  },
  {
   "cell_type": "code",
   "execution_count": null,
   "metadata": {},
   "outputs": [],
   "source": [
    "def clt(num_of_samples):\n",
    "    \"\"\"一様分布からサンプリングしてヒストグラムを作成し、描画する関数\n",
    "\n",
    "    Args:\n",
    "        num_of_samples (int): サンプル数\n",
    "    \"\"\"\n",
    "    flat_sums = [ sum(np.random.randint(20,100,num_of_samples))/num_of_samples for _ in range(10000)]\n",
    "    fig, ax = plt.subplots()\n",
    "    ax.hist(flat_sums, bins=200)\n",
    "    ax.set_ylim(0,250)\n",
    "    ax.set_xlim(20,100)\n",
    "    plt.show()"
   ]
  },
  {
   "cell_type": "code",
   "execution_count": null,
   "metadata": {},
   "outputs": [
    {
     "data": {
      "application/vnd.jupyter.widget-view+json": {
       "model_id": "3c76fcaccc73474fab653e625e681055",
       "version_major": 2,
       "version_minor": 0
      },
      "text/plain": [
       "interactive(children=(IntSlider(value=25, description='num_of_samples', max=50, min=1), Output()), _dom_classe…"
      ]
     },
     "metadata": {},
     "output_type": "display_data"
    },
    {
     "data": {
      "text/plain": [
       "<function __main__.clt(num_of_samples)>"
      ]
     },
     "execution_count": 7,
     "metadata": {},
     "output_type": "execute_result"
    }
   ],
   "source": [
    "interact(clt, num_of_samples=(1,50,1)) # ここを変更する (start, end, step)"
   ]
  },
  {
   "cell_type": "markdown",
   "metadata": {},
   "source": [
    "\n",
    "<br>\n",
    "\n",
    "### **正規分布の性質**"
   ]
  },
  {
   "cell_type": "markdown",
   "metadata": {},
   "source": [
    "#### **性質①**\n",
    "$aX + b$ は $\\mathcal{N}(a\\mu+b,\\, a^2\\sigma^2)$ に従う\n",
    "\n",
    "【確認事項】  \n",
    "- パラメーターを変化させるとどのように分布が変化するかを確認する。\n",
    "- $a$ を変化させると平均値が移動するだけでなく、分散も変化することを確認する。($\\mu=0$ではaを変えても平均値は変わらない)\n",
    "- $b$ を変化させると平均値のみが移動し、分散は変化しない事を確認する。"
   ]
  },
  {
   "cell_type": "code",
   "execution_count": null,
   "metadata": {},
   "outputs": [],
   "source": [
    "def gauss1(a,b):\n",
    "    \"\"\"性質1を確認するために分布を作成し、描画する関数\n",
    "\n",
    "    Args:\n",
    "        a (float): パラメータXを変化させる係数 (参考) aX+b\n",
    "        b (float): パラメータXを変化させる定数 (参考) aX+b\n",
    "    \"\"\"\n",
    "    MU=0\n",
    "    SIGMA = 3 \n",
    "    X = np.random.normal(MU, SIGMA, 10000)\n",
    "\n",
    "    fig, ax = plt.subplots()\n",
    "    ax.hist(a*X+b, bins=500, range=(-50,50),alpha=0.3, label=f\"{a}X+{b}\",density=True)\n",
    "    ax.hist(X, bins=500, range=(-50,50),alpha=0.3,color=\"red\",label=\"X\", density=True)\n",
    "    ax.set_ylim(0,0.2)\n",
    "    ax.set_xlim(-50,50)\n",
    "    \n",
    "    x = np.arange(-50,50,1)\n",
    "    \n",
    "    exp_sigma = a*SIGMA\n",
    "    \n",
    "    A = 1/(math.sqrt(2*math.pi*exp_sigma*exp_sigma)) # 規格化因子\n",
    "    f = A * np.exp(-(x -(a*MU+b))**2 / (2*exp_sigma**2)) # ガウス分布の式\n",
    "    ax.plot(x,f, label=f\"N({a}μ+{b}, (aσ)^2 )\")\n",
    "    ax.legend()\n",
    "    plt.show()"
   ]
  },
  {
   "cell_type": "code",
   "execution_count": null,
   "metadata": {},
   "outputs": [
    {
     "data": {
      "application/vnd.jupyter.widget-view+json": {
       "model_id": "f0b5bb100fc943fe8157b74b027f1796",
       "version_major": 2,
       "version_minor": 0
      },
      "text/plain": [
       "interactive(children=(IntSlider(value=5, description='a', max=10, min=1), IntSlider(value=0, description='b', …"
      ]
     },
     "metadata": {},
     "output_type": "display_data"
    },
    {
     "data": {
      "text/plain": [
       "<function __main__.gauss1(a, b)>"
      ]
     },
     "execution_count": 9,
     "metadata": {},
     "output_type": "execute_result"
    }
   ],
   "source": [
    "interact(gauss1, a=(1,10,1), b=(-50,50,10)) # ここを変更する (start, end, step)"
   ]
  },
  {
   "cell_type": "code",
   "execution_count": null,
   "metadata": {},
   "outputs": [],
   "source": [
    "##-- 変更する変数 --##\n",
    "a = 2 \n",
    "b = 4\n",
    "##------------------##\n",
    "gauss1(a, b)"
   ]
  },
  {
   "cell_type": "markdown",
   "metadata": {},
   "source": [
    "#### **性質②**\n",
    "$X \\sim \\mathcal{N}(\\mu_1, \\sigma^2_1)$ かつ $Y \\sim \\mathcal{N}(\\mu_2, \\sigma^2_2)$ である時に、  \n",
    "$X+Y$ は $\\mathcal{N}(\\mu_1 + \\mu_2, \\sigma^2_1 + \\sigma^2_2)$\n",
    "\n",
    "【確認事項】  \n",
    "- パラメーターを変化させるとどのように分布が変化するかを確認する。"
   ]
  },
  {
   "cell_type": "code",
   "execution_count": null,
   "metadata": {},
   "outputs": [],
   "source": [
    "def gauss2(mu1,sigma1,mu2,sigma2):\n",
    "    \"\"\"性質2を確認するために分布を作成し、描画する関数\n",
    "\n",
    "    Args:\n",
    "        mu1 (float): 確率変数Xが従う正規分布の平均値\n",
    "        sigma1 (float): 確率変数Xが従う正規分布の標準偏差\n",
    "        mu2 (float): 確率変数Yが従う正規分布の平均値\n",
    "        sigma2 (float): 確率変数Yが従う正規分布の標準偏差\n",
    "    \"\"\"\n",
    "    X = np.random.normal(mu1, sigma1, 10000)\n",
    "    Y = np.random.normal(mu2, sigma2, 10000)\n",
    "    fig, ax = plt.subplots()\n",
    "\n",
    "    ax.hist(X, bins=500, range=(-75,75 ),alpha=0.1,color=\"red\",label=f\"X ~ N({mu1},{sigma1**2})\", density=True)\n",
    "    ax.hist(Y, bins=500, range=(-75,75 ),alpha=0.1,color=\"green\",label=f\"Y ~ N({mu2},{sigma2**2})\", density=True)\n",
    "    ax.hist(X+Y, bins=500, range=(-75,75 ),alpha=0.3, label=\"X+Y\", density=True)\n",
    "\n",
    "    x = np.arange(-75,75,1)\n",
    "\n",
    "    exp_mu = mu1 + mu2\n",
    "    exp_sigma = np.sqrt(sigma1**2 + sigma2**2)\n",
    "\n",
    "    A = 1/(math.sqrt(2*math.pi*exp_sigma*exp_sigma)) # 規格化因子\n",
    "    f = A * np.exp(-(x -exp_mu)**2 / (2*exp_sigma**2)) # ガウス分布の式\n",
    "    ax.plot(x,f, label=f\"N({mu1}+{mu2}, {sigma1**2} + {sigma2**2} )\")\n",
    "\n",
    "    ax.set_ylim(0,0.15)\n",
    "    ax.set_xlim(-80,80)\n",
    "    ax.legend()\n",
    "    plt.show()"
   ]
  },
  {
   "cell_type": "code",
   "execution_count": null,
   "metadata": {},
   "outputs": [
    {
     "data": {
      "application/vnd.jupyter.widget-view+json": {
       "model_id": "dbceb57143664272927734441d76b8b4",
       "version_major": 2,
       "version_minor": 0
      },
      "text/plain": [
       "interactive(children=(IntSlider(value=0, description='mu1', max=50, min=-50, step=10), IntSlider(value=6, desc…"
      ]
     },
     "metadata": {},
     "output_type": "display_data"
    },
    {
     "data": {
      "text/plain": [
       "<function __main__.gauss2(mu1, sigma1, mu2, sigma2)>"
      ]
     },
     "execution_count": 11,
     "metadata": {},
     "output_type": "execute_result"
    }
   ],
   "source": [
    "interact(gauss2, mu1=(-50,50,10),sigma1=(3,10,1),mu2=(-50,50,10),sigma2=(3,10,1)) # ここを変更する (start, end, step)"
   ]
  },
  {
   "cell_type": "code",
   "execution_count": null,
   "metadata": {},
   "outputs": [],
   "source": [
    "##-- 変更する変数 --##\n",
    "mu1=3\n",
    "sigma1=10\n",
    "mu2=10\n",
    "sigma2=5\n",
    "##------------------##\n",
    "gauss2(mu1,sigma1,mu2,sigma2);"
   ]
  },
  {
   "cell_type": "code",
   "execution_count": null,
   "metadata": {},
   "outputs": [],
   "source": []
  }
 ],
 "metadata": {
  "kernelspec": {
   "display_name": "Python 3 (ipykernel)",
   "language": "python",
   "name": "python3"
  },
  "language_info": {
   "codemirror_mode": {
    "name": "ipython",
    "version": 3
   },
   "file_extension": ".py",
   "mimetype": "text/x-python",
   "name": "python",
   "nbconvert_exporter": "python",
   "pygments_lexer": "ipython3",
   "version": "3.8.8"
  },
  "vscode": {
   "interpreter": {
    "hash": "5e08fc709c577465c9f78fedd1a2b6fd5221b9a2a35126ec47bd55ed774e22c7"
   }
  }
 },
 "nbformat": 4,
 "nbformat_minor": 4
}
