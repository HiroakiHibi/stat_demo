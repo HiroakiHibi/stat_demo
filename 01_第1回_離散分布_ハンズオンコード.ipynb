{
 "cells": [
  {
   "cell_type": "code",
   "execution_count": 1,
   "metadata": {},
   "outputs": [],
   "source": [
    "!pip install japanize-matplotlib\n",
    "\n",
    "import numpy as np\n",
    "import math\n",
    "import matplotlib.pyplot as plt\n",
    "from matplotlib import rcParams\n",
    "from scipy.stats import binom, poisson, geom\n",
    "from ipywidgets import interact, fixed\n",
    "import functools\n",
    "import warnings\n",
    "import japanize_matplotlib\n",
    "\n",
    "warnings.simplefilter('ignore')\n",
    "\n",
    "# フォントおよびフォントサイズ\n",
    "#rcParams['font.family'] = 'Meiryo'\n",
    "rcParams['font.size'] = 16.0\n",
    "\n",
    "\n",
    "# カラーサイクルの設定\n",
    "plt.rcParams['axes.prop_cycle'] = (\n",
    "    plt.cycler('color', \n",
    "            # 上から優先順位が高い順になっています\n",
    "               [\n",
    "                '#1167A7', # 青色：メインカラー1\n",
    "                '#F6A90E', # 黄色：メインカラー2\n",
    "                '#ABB7B9', # 灰色：サブカラー1\n",
    "                '#4DA9ED', # 薄い青色\n",
    "                '#FBDD9F', # 薄い黄色\n",
    "                '#CDD4D5', # 薄い灰色\n",
    "                '#0D4D7D', # 濃い青色\n",
    "                '#BC8007', # 濃い黄色\n",
    "                '#7A8D91', # 濃い灰色\n",
    "               ])\n",
    ")\n",
    "# 上記12色で対応できない場合は以下のマーカーで差別化してください \n",
    "# 優先度：'o'（〇）＞','（■）＞'v'（▲）＞'^'（▼）＞\n",
    "\n",
    "# #C4240E, # 赤色：アクセントカラー1\n",
    "# #1C1C1C', # 黒色：アクセントカラー2\n",
    "\n",
    "%matplotlib inline"
   ]
  },
  {
   "cell_type": "markdown",
   "metadata": {},
   "source": [
    "# **離散分布の確認**"
   ]
  },
  {
   "cell_type": "markdown",
   "metadata": {},
   "source": [
    "## **二項分布**\n",
    "\n",
    "$\n",
    "\\begin{equation}\n",
    "P(X=k)={}_nC_kp^k(1-p)^{n-k}\n",
    "\\end{equation}\n",
    "$\n",
    "\n",
    "$n$ : 試行回数  \n",
    "$p$ : 成功確率\n",
    "\n",
    "【確認事項】\n",
    "- パラメーターによって分布の形状が変わる事を確認する\n",
    "- 試行回数が多い時にガウス分布に近づくこと確認する。(連続分布の記事を参照)\n",
    "- 分散がp(1-p)に従う、すなわち、p=0.5の時に最大になる事を確認する。\n"
   ]
  },
  {
   "cell_type": "code",
   "execution_count": 2,
   "metadata": {},
   "outputs": [],
   "source": [
    "def binom_func(n,p):\n",
    "    \"\"\"二項分布を作成し、描画する関数\n",
    "\n",
    "    Args:\n",
    "        n (int): 試行回数\n",
    "        p (float): 確率\n",
    "    \"\"\"\n",
    "    k  = np.arange(0, n+1) # 確率変数の指定\n",
    "    kk = np.sort( np.append(k,k) )\n",
    "    px = binom.pmf(kk, n, p) # 二項分布の確率作成\n",
    "    kk = np.roll(kk,-1)\n",
    "    kk[-1]=n+1\n",
    "    kk = np.append(kk, n+1)\n",
    "    px = np.append(px, 0)\n",
    "\n",
    "    fig = plt.figure()\n",
    "    ax  = fig.add_subplot()\n",
    "    ax.set_xlabel(\"k\")\n",
    "    ax.set_ylabel(\"P(X=k)\")\n",
    "    ax.set_ylim(0,1)\n",
    "    ax.set_xlim(0,100)\n",
    "\n",
    "    ax.plot(kk, px, color=\"#1167A7\", marker=\"\")\n",
    "    plt.show()"
   ]
  },
  {
   "cell_type": "code",
   "execution_count": 3,
   "metadata": {},
   "outputs": [
    {
     "data": {
      "application/vnd.jupyter.widget-view+json": {
       "model_id": "da7841dbb5944a71ba59b757746c8c87",
       "version_major": 2,
       "version_minor": 0
      },
      "text/plain": [
       "interactive(children=(IntSlider(value=41, description='n', min=1, step=10), FloatSlider(value=0.0, description…"
      ]
     },
     "metadata": {},
     "output_type": "display_data"
    },
    {
     "data": {
      "text/plain": [
       "<function __main__.binom_func(n, p)>"
      ]
     },
     "execution_count": 3,
     "metadata": {},
     "output_type": "execute_result"
    }
   ],
   "source": [
    "interact(binom_func, n=(1,100,10), p=(0,1,0.01) ) # ここを変更する"
   ]
  },
  {
   "cell_type": "code",
   "execution_count": 4,
   "metadata": {},
   "outputs": [
    {
     "data": {
      "image/png": "[encoded data removed]",
      "text/plain": [
       "<Figure size 640x480 with 1 Axes>"
      ]
     },
     "metadata": {},
     "output_type": "display_data"
    }
   ],
   "source": [
    "##-- 変更する変数 --##\n",
    "n = 30\n",
    "p = 0.5\n",
    "##------------------##\n",
    "\n",
    "binom_func(n,p)"
   ]
  },
  {
   "cell_type": "markdown",
   "metadata": {},
   "source": [
    "## **ポアソン分布**"
   ]
  },
  {
   "cell_type": "markdown",
   "metadata": {},
   "source": [
    "\n",
    "\n",
    "$\n",
    "\\begin{equation}\n",
    "  P(X=k) = e^{-\\lambda}・\\frac{\\lambda^k}{k!}\n",
    "\\end{equation}\n",
    "$\n",
    "\n",
    "$\\lambda$ : 期待値, 分散\n",
    "\n",
    "【確認事項】\n",
    "- パラメーターによってどのように分布の形状が変わるかを確認する\n",
    "- 期待期が大きいほど分散が大きくなることを確認する。\n",
    "- 期待値が多い時にガウス分布に近づくこと確認する。(連続分布の記事を参照)\n",
    "\n",
    "※ upper はグラフの描画範囲を決めるもので、関数のパラメータでないことに注意"
   ]
  },
  {
   "cell_type": "code",
   "execution_count": 5,
   "metadata": {},
   "outputs": [],
   "source": [
    "def poisson_func(  lambda_, upper=10):\n",
    "    \"\"\"ポアソン分布を作成し、描画する関数\n",
    "\n",
    "    Args:\n",
    "        lambda_ (float): パラメータλ\n",
    "        upper (int, optional): 描画範囲. デフォルトは300.\n",
    "    \"\"\"\n",
    "\n",
    "    k  = np.arange(0, upper) # 確率変数の指定\n",
    "    kk = np.sort( np.append(k,k) )\n",
    "    px = poisson.pmf(kk, lambda_) # ポアソン分布の確率作成\n",
    "    kk = np.roll(kk,-1)\n",
    "    kk[-1]=upper+1\n",
    "    kk = np.append(kk, upper+1)\n",
    "    px = np.append(px, 0)\n",
    "    \n",
    "    \n",
    "    \n",
    "    fig = plt.figure()\n",
    "    ax  = fig.add_subplot()\n",
    "    ax.set_xlabel(\"k\")\n",
    "    ax.set_ylabel(\"P(X=k)\")\n",
    "    ax.set_ylim(0,0.4)\n",
    "    ax.set_xlim(0,upper)\n",
    "\n",
    "    ax.plot(kk, px, color=\"#1167A7\", marker=\"\")\n",
    "    plt.show()"
   ]
  },
  {
   "cell_type": "code",
   "execution_count": 6,
   "metadata": {},
   "outputs": [
    {
     "data": {
      "application/vnd.jupyter.widget-view+json": {
       "model_id": "2c48224bbb9e478b8038ee940b28dbdd",
       "version_major": 2,
       "version_minor": 0
      },
      "text/plain": [
       "interactive(children=(FloatSlider(value=5.0, description='lambda_', max=10.0), Output()), _dom_classes=('widge…"
      ]
     },
     "metadata": {},
     "output_type": "display_data"
    },
    {
     "data": {
      "text/plain": [
       "<function __main__.poisson_func(lambda_, upper=10)>"
      ]
     },
     "execution_count": 6,
     "metadata": {},
     "output_type": "execute_result"
    }
   ],
   "source": [
    "interact(poisson_func, lambda_=(0,10,0.1), upper=fixed(10) ) # ここを変更する"
   ]
  },
  {
   "cell_type": "code",
   "execution_count": 7,
   "metadata": {},
   "outputs": [
    {
     "data": {
      "application/vnd.jupyter.widget-view+json": {
       "model_id": "21c1446bb37545f4995fa0c0cccbd4e6",
       "version_major": 2,
       "version_minor": 0
      },
      "text/plain": [
       "interactive(children=(IntSlider(value=150, description='lambda_', max=300, min=1), Output()), _dom_classes=('w…"
      ]
     },
     "metadata": {},
     "output_type": "display_data"
    },
    {
     "data": {
      "text/plain": [
       "<function __main__.poisson_func(lambda_, upper=10)>"
      ]
     },
     "execution_count": 7,
     "metadata": {},
     "output_type": "execute_result"
    }
   ],
   "source": [
    "interact(poisson_func, lambda_=(1,300,1), upper=fixed(300))"
   ]
  },
  {
   "cell_type": "code",
   "execution_count": 8,
   "metadata": {},
   "outputs": [
    {
     "data": {
      "image/png": "[encoded data removed]",
      "text/plain": [
       "<Figure size 640x480 with 1 Axes>"
      ]
     },
     "metadata": {},
     "output_type": "display_data"
    }
   ],
   "source": [
    "##-- 変更する変数 --##\n",
    "lambda_ = 5\n",
    "##------------------##\n",
    "\n",
    "poisson_func(lambda_)"
   ]
  },
  {
   "cell_type": "markdown",
   "metadata": {},
   "source": [
    "## **幾何分布**\n",
    "\n",
    "$\n",
    "\\begin{equation}\n",
    "  P(X=k)=(1-p)^{k-1}p\n",
    "\\end{equation}\n",
    "$\n",
    "\n",
    "$p$ : 1 試行ごとの成功確率\n",
    "\n",
    "\n",
    "【確認事項】\n",
    "- パラメーターによってどのように分布の形状が変わるかを確認する"
   ]
  },
  {
   "cell_type": "code",
   "execution_count": 9,
   "metadata": {},
   "outputs": [],
   "source": [
    "def geom_func(p):\n",
    "    \"\"\"幾何分布を作成し、描画する関数\n",
    "\n",
    "    Args:\n",
    "        p (float): 確率\n",
    "    \"\"\"    \n",
    "    k  = np.arange(0, 50) # 確率変数の指定\n",
    "    kk = np.sort( np.append(k,k) )\n",
    "    px = geom.pmf(kk, p) # 幾何分布の確率作成\n",
    "    kk = np.roll(kk,-1)\n",
    "    kk[-1]=50+1\n",
    "    kk = np.append(kk, 50+1)\n",
    "    px = np.append(px, 0)\n",
    "\n",
    "    fig = plt.figure()\n",
    "    ax  = fig.add_subplot()\n",
    "    ax.set_xlabel(\"k\")\n",
    "    ax.set_ylabel(\"P(X=k)\")\n",
    "    ax.set_ylim(0,0.4)\n",
    "    ax.set_xlim(0,50)   \n",
    "\n",
    "    ax.plot(kk, px, color=\"#1167A7\", marker=\"\")\n",
    "    plt.show()"
   ]
  },
  {
   "cell_type": "code",
   "execution_count": 10,
   "metadata": {},
   "outputs": [
    {
     "data": {
      "application/vnd.jupyter.widget-view+json": {
       "model_id": "75c2c8cdb04d43d1a271aad09b0a1ffb",
       "version_major": 2,
       "version_minor": 0
      },
      "text/plain": [
       "interactive(children=(FloatSlider(value=0.0, description='p', max=1.0, step=0.05), Output()), _dom_classes=('w…"
      ]
     },
     "metadata": {},
     "output_type": "display_data"
    },
    {
     "data": {
      "text/plain": [
       "<function __main__.geom_func(p)>"
      ]
     },
     "execution_count": 10,
     "metadata": {},
     "output_type": "execute_result"
    }
   ],
   "source": [
    "interact(geom_func, p=(0,1,0.05)) # ここを変更する"
   ]
  },
  {
   "cell_type": "code",
   "execution_count": 11,
   "metadata": {},
   "outputs": [
    {
     "data": {
      "image/png": "[encoded data removed]",
      "text/plain": [
       "<Figure size 640x480 with 1 Axes>"
      ]
     },
     "metadata": {},
     "output_type": "display_data"
    }
   ],
   "source": [
    "##-- 変更する変数 --##\n",
    "p = 0.5\n",
    "##------------------##\n",
    "\n",
    "geom_func(p)"
   ]
  },
  {
   "cell_type": "code",
   "execution_count": null,
   "metadata": {},
   "outputs": [],
   "source": []
  }
 ],
 "metadata": {
  "kernelspec": {
   "display_name": "Python 3 (ipykernel)",
   "language": "python",
   "name": "python3"
  },
  "language_info": {
   "codemirror_mode": {
    "name": "ipython",
    "version": 3
   },
   "file_extension": ".py",
   "mimetype": "text/x-python",
   "name": "python",
   "nbconvert_exporter": "python",
   "pygments_lexer": "ipython3",
   "version": "3.8.13"
  },
  "vscode": {
   "interpreter": {
    "hash": "5e08fc709c577465c9f78fedd1a2b6fd5221b9a2a35126ec47bd55ed774e22c7"
   }
  }
 },
 "nbformat": 4,
 "nbformat_minor": 4
}
